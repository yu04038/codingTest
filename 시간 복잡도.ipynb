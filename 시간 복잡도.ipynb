{
 "cells": [
  {
   "cell_type": "markdown",
   "metadata": {},
   "source": [
    "## 알고리즘 복잡도 표현 방법"
   ]
  },
  {
   "cell_type": "markdown",
   "metadata": {},
   "source": [
    "### 1. 알고리즘 복잡도 계산이 필요한 이유\n",
    "**하나의 문제를 푸는 알고리즘은 다양할 수 있음**\n",
    "- 정수의 절대값 구하기\n",
    "    - 방법 1 : 정수값을 제곱한 다음에 다시 루트를 씌우기\n",
    "    - 방법 2 : 정수가 양수인지, 음수인지 확인해서 음수일 때만 -1을 곱하기\n",
    "    \n",
    "> 다양한 알고리즘 중 어느 알고리즘이 좋은지를 분석하기 위해, 복잡도를 정의하고 계산함"
   ]
  },
  {
   "cell_type": "markdown",
   "metadata": {},
   "source": [
    "### 2. 알고리즘 복잡도 계산 항목\n",
    "1. **시간 복잡도** : 알고리즘 실행 속도\n",
    "2. **공간 복잡도** : 알고리즘이 실행하는 메모리 사이즈\n",
    "> 가장 중요한 시간 복잡도를 꼭 이해하고 계산할 수 있어야 함"
   ]
  },
  {
   "cell_type": "markdown",
   "metadata": {},
   "source": [
    "### 알고리즘 시간 복잡도의 주요 요소\n",
    "> 반복문이 지배한다!\n",
    "- 입력의 크기가 커지면 커질수록 반복문이 알고리즘 수행 시간을 지배한다."
   ]
  },
  {
   "cell_type": "markdown",
   "metadata": {},
   "source": [
    "### 알고리즘 성능 표기법\n",
    "- Big O : O(N) 표기법\n",
    "    - 알고리즘 최악의 실행 시간을 표기\n",
    "    - **가장 많이/일반적으로 사용함**\n",
    "    - **아무리 최악의 상황이라 하더라도, 이정도의 성능은 보장한다는 의미이기 때문\n",
    "\n",
    "- 오메가 : Ω(N) 표기법\n",
    "    - 알고리즘 최상의 실행 시간을 표기\n",
    "    \n",
    "- 세타 : Θ(N) 표기법\n",
    "    - 알고리즘 평균의 실행 시간을 표기\n",
    "    \n",
    "> 시간 복잡도 계산은 반복문이 핵심 요소임을 인지하고, 계산 표기는 최악 시간인 O(N)을 중심으로 한다."
   ]
  },
  {
   "cell_type": "markdown",
   "metadata": {},
   "source": [
    "### 3. 대문자 O 표기법\n",
    "- 빅 오 표기법, Big O 표기법이라고도 부름\n",
    "- O(입력)\n",
    "    - 입력 n에 따라 결정되는 시간 복잡도 함수\n",
    "    - O(1), O($logn$), O($n$), O($nlogn$), O($n^2$), O($2^n$), O($n!$)으로 표기함\n",
    "    - 입력 n의 크기에 따라 기하급수적으로 시간 복잡도가 늘어날 수 있음.\n",
    "        - O(1) < O($logn$) < O($n$) < O($nlogn$) < O($n^2$) < O($2^n$) < O($n!$)\n",
    "            - 참고 : $logn$의 베이스는 2 -> $log$<sub>2</sub>$n$\n",
    "- 단순하게 입력 n에 따라, 몇번 실행이 되는지를 계산하면 된다.\n",
    "    - **표현식에 가장 큰 영향을 미치는 n의 단위로 표기**\n",
    "    - n이 1이든 100이든, 1000이든, 10000이든 실행을\n",
    "        - 무조건 2회(상수회) 실행한다 : O(1)\n",
    "        ``` python    \n",
    "            if n > 10:    \n",
    "                print(n)\n",
    "        ```\n",
    "        - n에 따라, n번, n+10번, 또는 3n+10번 실행한다 : O(n)\n",
    "        ``` python\n",
    "            for index in range(n):\n",
    "                print(index)\n",
    "        ```\n",
    "        - n에 따라, $n^2$번, $n^2$+1000번, 또는 100$n^2$-100번 등 실행한다 : O($n^2$)\n",
    "        ``` python\n",
    "            for i in range(300):\n",
    "                for num in range(n):\n",
    "                    for index in range(n):\n",
    "                        print(index)\n",
    "        ```"
   ]
  },
  {
   "cell_type": "markdown",
   "metadata": {},
   "source": [
    "- 빅 오 입력값 표기 방법\n",
    "    - 예:\n",
    "        - 만약 시간 복잡도가 $2n^2 + 3n$이라면\n",
    "            - 가장 높은 차수는 $2n^2$\n",
    "            - 상수는 실제 큰 영향이 없음\n",
    "            - 결국 빅 오 표기법으로는 O($n^2$)"
   ]
  },
  {
   "cell_type": "markdown",
   "metadata": {},
   "source": [
    "### 4. 실제 알고리즘을 예로 각 알고리즘의 시간 복잡도와 빅 오 표기법 알아보기\n",
    "**연습1 : 1부터 n까지의 합을 구하는 알고리즘 작성해보기**"
   ]
  },
  {
   "cell_type": "markdown",
   "metadata": {},
   "source": [
    "#### 알고리즘 1: 1부터 n까지의 합을 구하는 알고리즘 1\n",
    "- 합을 기록할 변수를 만들고 0을 저장\n",
    "- n을 1부터 1씩 증가시키면서 반복\n",
    "- 반복문 안에서 합을 기록할 변수에 1씩 증가된 값을 더함\n",
    "- 반복이 끝나면 합을 출력"
   ]
  },
  {
   "cell_type": "code",
   "execution_count": 1,
   "metadata": {},
   "outputs": [],
   "source": [
    "def sum_all(n):\n",
    "    total = 0\n",
    "    for num in range(n+1):\n",
    "        total+=num\n",
    "    return total"
   ]
  },
  {
   "cell_type": "code",
   "execution_count": 2,
   "metadata": {},
   "outputs": [
    {
     "data": {
      "text/plain": [
       "5050"
      ]
     },
     "execution_count": 2,
     "metadata": {},
     "output_type": "execute_result"
    }
   ],
   "source": [
    "sum_all(100)"
   ]
  },
  {
   "cell_type": "markdown",
   "metadata": {},
   "source": [
    "#### 시간 복잡도 구하기\n",
    "- 1부터 n까지의 합을 구하는 알고리즘 1\n",
    "    - 입력 n에 따라 덧셈을 n번 해야함!(반복문)\n",
    "    - 시간 복잡도 : n, 빅 오 표기법으로는 **O(n)**"
   ]
  },
  {
   "cell_type": "markdown",
   "metadata": {},
   "source": [
    "#### 알고리즘 2: 1부터 n까지의 합을 구하는 알고리즘 2\n",
    "- $n(n+1)/2$"
   ]
  },
  {
   "cell_type": "code",
   "execution_count": 5,
   "metadata": {},
   "outputs": [],
   "source": [
    "def sum_all(n):\n",
    "    return int(n*(n+1)/2)"
   ]
  },
  {
   "cell_type": "code",
   "execution_count": 6,
   "metadata": {},
   "outputs": [
    {
     "data": {
      "text/plain": [
       "5050"
      ]
     },
     "execution_count": 6,
     "metadata": {},
     "output_type": "execute_result"
    }
   ],
   "source": [
    "sum_all(100)"
   ]
  },
  {
   "cell_type": "markdown",
   "metadata": {},
   "source": [
    "#### 시간 복잡도 구하기\n",
    "- 1부터 n까지의 합을 구하는 알고리즘 2\n",
    "    - 입력 n이 어떻든 간에, 곱셈/덧셈/나눗셈 하면 됨(반복문이 없음!)\n",
    "    - 시간 복잡도 : 1, 빅 오 표기법으로는 **O(1)**"
   ]
  },
  {
   "cell_type": "markdown",
   "metadata": {},
   "source": [
    "#### 어느 알고리즘이 성능이 더 좋은가요?\n",
    "- 알고리즘 1 vs 알고리즘 2\n",
    "    - O(n) vs O(1)\n",
    "> 이와 같이, 동일한 문제를 푸는 알고리즘은 다양할 수 있음. 어느 알고리즘이 보다 좋은지를 객관적으로 비교하기 위해, 빅 오 표기법등의 시간 복잡도 계산법을 사용할 수 있다."
   ]
  }
 ],
 "metadata": {
  "kernelspec": {
   "display_name": "Python 3",
   "language": "python",
   "name": "python3"
  },
  "language_info": {
   "codemirror_mode": {
    "name": "ipython",
    "version": 3
   },
   "file_extension": ".py",
   "mimetype": "text/x-python",
   "name": "python",
   "nbconvert_exporter": "python",
   "pygments_lexer": "ipython3",
   "version": "3.8.5"
  }
 },
 "nbformat": 4,
 "nbformat_minor": 4
}
