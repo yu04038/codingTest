{
 "cells": [
  {
   "cell_type": "markdown",
   "metadata": {},
   "source": [
    "## 알고리즘 복잡도 표현 방법"
   ]
  },
  {
   "cell_type": "markdown",
   "metadata": {},
   "source": [
    "### 1. 알고리즘 복잡도 계산이 필요한 이유\n",
    "**하나의 문제를 푸는 알고리즘은 다양할 수 있음**\n",
    "- 정수의 절대값 구하기\n",
    "    - 방법 1 : 정수값을 제곱한 다음에 다시 루트를 씌우기\n",
    "    - 방법 2 : 정수가 양수인지, 음수인지 확인해서 음수일 때만 -1을 곱하기\n",
    "    \n",
    "> 다양한 알고리즘 중 어느 알고리즘이 좋은지를 분석하기 위해, 복잡도를 정의하고 계산함"
   ]
  },
  {
   "cell_type": "markdown",
   "metadata": {},
   "source": [
    "### 2. 알고리즘 복잡도 계산 항목\n",
    "1. **시간 복잡도** : 알고리즘 실행 속도\n",
    "2. **공간 복잡도** : 알고리즘이 실행하는 메모리 사이즈\n",
    "> 가장 중요한 시간 복잡도를 꼭 이해하고 계산할 수 있어야 함"
   ]
  },
  {
   "cell_type": "markdown",
   "metadata": {},
   "source": [
    "### 알고리즘 시간 복잡도의 주요 요소\n",
    "> 반복문이 지배한다!\n",
    "- 입력의 크기가 커지면 커질수록 반복문이 알고리즘 수행 시간을 지배한다."
   ]
  },
  {
   "cell_type": "markdown",
   "metadata": {},
   "source": [
    "### 알고리즘 성능 표기법\n",
    "- Big O : O(N) 표기법\n",
    "    - 알고리즘 최악의 실행 시간을 표기\n",
    "    - **가장 많이/일반적으로 사용함**\n",
    "    - **아무리 최악의 상황이라 하더라도, 이정도의 성능은 보장한다는 의미이기 때문\n",
    "\n",
    "- 오메가 : Ω(N) 표기법\n",
    "    - 알고리즘 최상의 실행 시간을 표기\n",
    "    \n",
    "- 세타 : Θ(N) 표기법\n",
    "    - 알고리즘 평균의 실행 시간을 표기\n",
    "    \n",
    "> 시간 복잡도 계산은 반복문이 핵심 요소임을 인지하고, 계산 표기는 최악 시간인 O(N)을 중심으로 한다."
   ]
  },
  {
   "cell_type": "code",
   "execution_count": null,
   "metadata": {},
   "outputs": [],
   "source": []
  },
  {
   "cell_type": "code",
   "execution_count": null,
   "metadata": {},
   "outputs": [],
   "source": []
  },
  {
   "cell_type": "code",
   "execution_count": null,
   "metadata": {},
   "outputs": [],
   "source": []
  },
  {
   "cell_type": "code",
   "execution_count": null,
   "metadata": {},
   "outputs": [],
   "source": []
  },
  {
   "cell_type": "code",
   "execution_count": null,
   "metadata": {},
   "outputs": [],
   "source": []
  },
  {
   "cell_type": "code",
   "execution_count": null,
   "metadata": {},
   "outputs": [],
   "source": []
  },
  {
   "cell_type": "code",
   "execution_count": null,
   "metadata": {},
   "outputs": [],
   "source": []
  }
 ],
 "metadata": {
  "kernelspec": {
   "display_name": "Python 3",
   "language": "python",
   "name": "python3"
  },
  "language_info": {
   "codemirror_mode": {
    "name": "ipython",
    "version": 3
   },
   "file_extension": ".py",
   "mimetype": "text/x-python",
   "name": "python",
   "nbconvert_exporter": "python",
   "pygments_lexer": "ipython3",
   "version": "3.8.5"
  }
 },
 "nbformat": 4,
 "nbformat_minor": 4
}
